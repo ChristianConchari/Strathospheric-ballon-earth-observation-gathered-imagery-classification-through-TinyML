{
  "nbformat": 4,
  "nbformat_minor": 0,
  "metadata": {
    "colab": {
      "private_outputs": true,
      "provenance": [],
      "collapsed_sections": [],
      "authorship_tag": "ABX9TyPsLyWSPVqFwx7H1lR4rScE",
      "include_colab_link": true
    },
    "kernelspec": {
      "name": "python3",
      "display_name": "Python 3"
    },
    "language_info": {
      "name": "python"
    },
    "accelerator": "GPU"
  },
  "cells": [
    {
      "cell_type": "markdown",
      "metadata": {
        "id": "view-in-github",
        "colab_type": "text"
      },
      "source": [
        "<a href=\"https://colab.research.google.com/github/ChristianConchari/Strathospheric-ballon-earth-observation-gathered-imagery-classification-through-TinyML/blob/master/classification_model_ballon.ipynb\" target=\"_parent\"><img src=\"https://colab.research.google.com/assets/colab-badge.svg\" alt=\"Open In Colab\"/></a>"
      ]
    },
    {
      "cell_type": "code",
      "execution_count": null,
      "metadata": {
        "id": "CPiffCWcydNO"
      },
      "outputs": [],
      "source": [
        "from tensorflow import keras\n",
        "from tensorflow.keras import regularizers\n",
        "import numpy as np\n",
        "import matplotlib.pyplot as plt\n",
        "import cv2\n",
        "from tensorflow.keras.preprocessing.image import ImageDataGenerator\n",
        "from keras.regularizers import l2"
      ]
    },
    {
      "cell_type": "code",
      "source": [
        "from google.colab import drive\n",
        "\n",
        "drive.mount('/content/gdrive')"
      ],
      "metadata": {
        "id": "gd9pFbiyylfv"
      },
      "execution_count": null,
      "outputs": []
    },
    {
      "cell_type": "code",
      "source": [
        "!unzip /content/gdrive/MyDrive/data_training_balloon.zip\n",
        "!mkdir data_training_balloon \n",
        "!mv 0 data_training_balloon\n",
        "!mv 1 data_training_balloon"
      ],
      "metadata": {
        "id": "zG_rcQdbo7rB"
      },
      "execution_count": null,
      "outputs": []
    },
    {
      "cell_type": "code",
      "source": [
        "datagenerator = ImageDataGenerator(\n",
        "        rescale = 1/255.0,\n",
        "        rotation_range=30, # rotation\n",
        "        width_shift_range=0.2, # horizontal shift\n",
        "        height_shift_range=0.2, # vertical shift\n",
        "        zoom_range=0.3, # zoom\n",
        "        horizontal_flip=True, # horizontal flip\n",
        "        vertical_flip=True, # horizontal flip\n",
        "        validation_split = 0.2) "
      ],
      "metadata": {
        "id": "VqmtTj4xzDIe"
      },
      "execution_count": null,
      "outputs": []
    },
    {
      "cell_type": "code",
      "source": [
        "training_data = '/content/data_training_balloon'\n",
        "\n",
        "img_height = 100\n",
        "img_width = 100\n",
        "batch_size = 16\n",
        "\n",
        "train_ds = datagenerator.flow_from_directory(\n",
        "    training_data,\n",
        "    color_mode='rgb',\n",
        "    class_mode = \"binary\",\n",
        "    target_size=(img_height, img_width),\n",
        "    batch_size=batch_size,\n",
        "    shuffle = True,\n",
        "    subset = \"training\"\n",
        ")\n",
        "\n",
        "val_ds = datagenerator.flow_from_directory(\n",
        "    training_data,\n",
        "    target_size=(img_height, img_width),\n",
        "    batch_size=batch_size,\n",
        "    shuffle = True,\n",
        "    color_mode='rgb',\n",
        "    class_mode = \"binary\",\n",
        "    subset = \"validation\"\n",
        ")"
      ],
      "metadata": {
        "id": "H03msWoKyuH0"
      },
      "execution_count": null,
      "outputs": []
    },
    {
      "cell_type": "code",
      "source": [
        "def plotImages(images_arr):\n",
        "  fig, axes = plt.subplots(1, 4, figsize = (10, 10))\n",
        "  axes = axes.flatten()\n",
        "  for img, ax in zip(images_arr, axes):\n",
        "    ax.imshow(img)\n",
        "    ax.axis(\"off\")\n",
        "  plt.tight_layout()\n",
        "  plt.show()"
      ],
      "metadata": {
        "id": "69RSGNaaz_cd"
      },
      "execution_count": null,
      "outputs": []
    },
    {
      "cell_type": "code",
      "source": [
        "sample_training_images, _= next(iter(train_ds))\n",
        "print(sample_training_images.shape)\n",
        "plotImages(sample_training_images[:4])"
      ],
      "metadata": {
        "id": "wVgPvVZOz_x8"
      },
      "execution_count": null,
      "outputs": []
    },
    {
      "cell_type": "code",
      "source": [
        "model_cnn = keras.models.Sequential()\n",
        "\n",
        "model_cnn.add(keras.layers.Conv2D(16, (3,3), padding='same'))\n",
        "model_cnn.add(keras.layers.Activation(keras.activations.relu))\n",
        "model_cnn.add(keras.layers.BatchNormalization())\n",
        "model_cnn.add(keras.layers.MaxPooling2D((2,2)))\n",
        "\n",
        "model_cnn.add(keras.layers.Conv2D(32, (3,3), padding='same'))\n",
        "model_cnn.add(keras.layers.Activation(keras.activations.relu))\n",
        "model_cnn.add(keras.layers.BatchNormalization())\n",
        "model_cnn.add(keras.layers.MaxPooling2D((2,2)))\n",
        "\n",
        "model_cnn.add(keras.layers.Conv2D(64, (3,3), padding='same', kernel_regularizer=l2(0.01), bias_regularizer=l2(0.01)))\n",
        "model_cnn.add(keras.layers.Activation(keras.activations.relu))\n",
        "model_cnn.add(keras.layers.BatchNormalization())\n",
        "model_cnn.add(keras.layers.MaxPooling2D((2,2)))\n",
        "\n",
        "model_cnn.add(keras.layers.Conv2D(128, (3,3), padding='same', kernel_regularizer=l2(0.01), bias_regularizer=l2(0.01)))\n",
        "model_cnn.add(keras.layers.Activation(keras.activations.relu))\n",
        "model_cnn.add(keras.layers.BatchNormalization())\n",
        "model_cnn.add(keras.layers.MaxPooling2D((2,2)))\n",
        "\n",
        "model_cnn.add(keras.layers.Flatten())\n",
        "model_cnn.add(keras.layers.Dense(128,  kernel_regularizer=l2(0.01), bias_regularizer=l2(0.01)))\n",
        "model_cnn.add(keras.layers.Dropout(0.5))\n",
        "model_cnn.add(keras.layers.Activation(keras.activations.relu))\n",
        "model_cnn.add(keras.layers.Dense(1, activation = \"sigmoid\"))\n",
        "\n",
        "model_cnn.build((None, 100, 100, 3))\n",
        "model_cnn.summary()"
      ],
      "metadata": {
        "id": "kpwNl1fL0BtT"
      },
      "execution_count": null,
      "outputs": []
    },
    {
      "cell_type": "code",
      "source": [
        "optimizer = keras.optimizers.SGD(\n",
        "    learning_rate=0.0001, momentum=0.9, nesterov=True, name=\"SGD\"\n",
        ")\n",
        "\n",
        "model_cnn.compile(optimizer=optimizer, loss = \"binary_crossentropy\", metrics = [\"accuracy\"])\n",
        "training_samples = train_ds.n\n",
        "val_samples = val_ds.n\n",
        "\n",
        "epochs = 30\n",
        "\n",
        "history_cnn = model_cnn.fit(\n",
        "    train_ds,\n",
        "    steps_per_epoch=training_samples // batch_size,\n",
        "    epochs = epochs,\n",
        "    validation_data=val_ds,\n",
        "    validation_steps=val_samples // batch_size,\n",
        ")"
      ],
      "metadata": {
        "id": "d3hd-cVf2GKy"
      },
      "execution_count": null,
      "outputs": []
    },
    {
      "cell_type": "code",
      "source": [
        "def visualizacion_resultados(history):\n",
        "  nepochs = [i for i in range(epochs)]\n",
        "  fig, ax = plt.subplots(1,2)\n",
        "  train_acc = history.history[\"accuracy\"]\n",
        "  train_loss = history.history[\"loss\"]\n",
        "  val_acc = history.history[\"val_accuracy\"]\n",
        "  val_loss = history.history[\"val_loss\"]\n",
        "  fig.set_size_inches(16, 9)\n",
        "\n",
        "  ax[0].plot(nepochs, train_acc, \"-\", label =\" Training accuracy\")\n",
        "  ax[0].plot(nepochs, val_acc, \"-\", label= \"Validation accuracy\")\n",
        "  ax[0].set_title(\"Training & validation accuracy\")\n",
        "  ax[0].legend()\n",
        "  ax[0].set_xlabel(\"nEpochs\")\n",
        "  ax[0].set_ylabel(\"Accuracy\")\n",
        "\n",
        "  ax[1].plot(nepochs, train_loss, \"go-\", label =\" Training Loss\")\n",
        "  ax[1].plot(nepochs, val_loss, \"ro-\", label= \"Validation Loss\")\n",
        "  ax[1].set_title(\"Training & validation Loss\")\n",
        "  ax[1].legend()\n",
        "  ax[1].set_xlabel(\"Epochs\")\n",
        "  ax[1].set_ylabel(\"Loss\")\n",
        "\n",
        "  plt.show()\n"
      ],
      "metadata": {
        "id": "quDhYBUu2TSC"
      },
      "execution_count": null,
      "outputs": []
    },
    {
      "cell_type": "code",
      "source": [
        "visualizacion_resultados(history_cnn)"
      ],
      "metadata": {
        "id": "nWkOyVz53EAt"
      },
      "execution_count": null,
      "outputs": []
    },
    {
      "cell_type": "code",
      "source": [
        "loss, accuracy = model_cnn.evaluate(val_ds)"
      ],
      "metadata": {
        "id": "GCV7d-wk3HLe"
      },
      "execution_count": null,
      "outputs": []
    },
    {
      "cell_type": "code",
      "source": [
        "sample_training_images, _= next(iter(train_ds))\n",
        "print(sample_training_images.shape)\n",
        "plotImages(sample_training_images[:4])\n",
        "model_cnn(sample_training_images[:4])"
      ],
      "metadata": {
        "id": "5bEXxt9k4gA_"
      },
      "execution_count": null,
      "outputs": []
    },
    {
      "cell_type": "code",
      "source": [],
      "metadata": {
        "id": "ByrHWR1WvbRA"
      },
      "execution_count": null,
      "outputs": []
    }
  ]
}